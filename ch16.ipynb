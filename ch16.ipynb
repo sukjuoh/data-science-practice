{
 "cells": [
  {
   "cell_type": "code",
   "execution_count": 3,
   "id": "db64fc22-6448-4af8-9c6a-1b926bfcef97",
   "metadata": {},
   "outputs": [],
   "source": [
    "import numpy as np\n",
    "import pandas as pd\n",
    "from sklearn.naive_bayes import GaussianNB"
   ]
  },
  {
   "cell_type": "code",
   "execution_count": 4,
   "id": "dc81a48d-b236-498b-a82c-9f59f933c1b8",
   "metadata": {},
   "outputs": [
    {
     "data": {
      "text/html": [
       "<div>\n",
       "<style scoped>\n",
       "    .dataframe tbody tr th:only-of-type {\n",
       "        vertical-align: middle;\n",
       "    }\n",
       "\n",
       "    .dataframe tbody tr th {\n",
       "        vertical-align: top;\n",
       "    }\n",
       "\n",
       "    .dataframe thead th {\n",
       "        text-align: right;\n",
       "    }\n",
       "</style>\n",
       "<table border=\"1\" class=\"dataframe\">\n",
       "  <thead>\n",
       "    <tr style=\"text-align: right;\">\n",
       "      <th></th>\n",
       "      <th>Sepal.Length</th>\n",
       "      <th>Sepal.Width</th>\n",
       "      <th>Petal.Length</th>\n",
       "      <th>Petal.Width</th>\n",
       "      <th>Species</th>\n",
       "    </tr>\n",
       "  </thead>\n",
       "  <tbody>\n",
       "    <tr>\n",
       "      <th>0</th>\n",
       "      <td>5.1</td>\n",
       "      <td>3.5</td>\n",
       "      <td>1.4</td>\n",
       "      <td>0.2</td>\n",
       "      <td>setosa</td>\n",
       "    </tr>\n",
       "    <tr>\n",
       "      <th>1</th>\n",
       "      <td>4.9</td>\n",
       "      <td>3.0</td>\n",
       "      <td>1.4</td>\n",
       "      <td>0.2</td>\n",
       "      <td>setosa</td>\n",
       "    </tr>\n",
       "  </tbody>\n",
       "</table>\n",
       "</div>"
      ],
      "text/plain": [
       "   Sepal.Length  Sepal.Width  Petal.Length  Petal.Width Species\n",
       "0           5.1          3.5           1.4          0.2  setosa\n",
       "1           4.9          3.0           1.4          0.2  setosa"
      ]
     },
     "execution_count": 4,
     "metadata": {},
     "output_type": "execute_result"
    }
   ],
   "source": [
    "df = pd.read_csv(\"C:/Users/user/Downloads/datascience/Python/iris.csv\")\n",
    "df.head(2)"
   ]
  },
  {
   "cell_type": "code",
   "execution_count": 6,
   "id": "42194d3a-5d43-4e4e-ae5b-c56ed06c66b7",
   "metadata": {},
   "outputs": [
    {
     "data": {
      "text/html": [
       "<div>\n",
       "<style scoped>\n",
       "    .dataframe tbody tr th:only-of-type {\n",
       "        vertical-align: middle;\n",
       "    }\n",
       "\n",
       "    .dataframe tbody tr th {\n",
       "        vertical-align: top;\n",
       "    }\n",
       "\n",
       "    .dataframe thead th {\n",
       "        text-align: right;\n",
       "    }\n",
       "</style>\n",
       "<table border=\"1\" class=\"dataframe\">\n",
       "  <thead>\n",
       "    <tr style=\"text-align: right;\">\n",
       "      <th></th>\n",
       "      <th>Sepal.Length</th>\n",
       "      <th>Sepal.Width</th>\n",
       "      <th>Petal.Length</th>\n",
       "      <th>Petal.Width</th>\n",
       "      <th>Species</th>\n",
       "      <th>is_setosa</th>\n",
       "    </tr>\n",
       "  </thead>\n",
       "  <tbody>\n",
       "    <tr>\n",
       "      <th>0</th>\n",
       "      <td>5.1</td>\n",
       "      <td>3.5</td>\n",
       "      <td>1.4</td>\n",
       "      <td>0.2</td>\n",
       "      <td>setosa</td>\n",
       "      <td>1</td>\n",
       "    </tr>\n",
       "    <tr>\n",
       "      <th>1</th>\n",
       "      <td>4.9</td>\n",
       "      <td>3.0</td>\n",
       "      <td>1.4</td>\n",
       "      <td>0.2</td>\n",
       "      <td>setosa</td>\n",
       "      <td>1</td>\n",
       "    </tr>\n",
       "  </tbody>\n",
       "</table>\n",
       "</div>"
      ],
      "text/plain": [
       "   Sepal.Length  Sepal.Width  Petal.Length  Petal.Width Species  is_setosa\n",
       "0           5.1          3.5           1.4          0.2  setosa          1\n",
       "1           4.9          3.0           1.4          0.2  setosa          1"
      ]
     },
     "execution_count": 6,
     "metadata": {},
     "output_type": "execute_result"
    }
   ],
   "source": [
    "df[\"is_setosa\"] = (df[\"Species\"] == \"setosa\") * 1\n",
    "df.head(2)"
   ]
  },
  {
   "cell_type": "code",
   "execution_count": 9,
   "id": "ca41ab46-6131-4be6-9c4d-ec2506d99e4d",
   "metadata": {},
   "outputs": [
    {
     "data": {
      "text/plain": [
       "is_setosa\n",
       "0    0.666667\n",
       "1    0.333333\n",
       "Name: proportion, dtype: float64"
      ]
     },
     "execution_count": 9,
     "metadata": {},
     "output_type": "execute_result"
    }
   ],
   "source": [
    "df[\"is_setosa\"].value_counts(normalize = True)"
   ]
  },
  {
   "cell_type": "code",
   "execution_count": 12,
   "id": "d4822a80-b3f8-4b61-8ec3-7cda542cdfd5",
   "metadata": {},
   "outputs": [],
   "source": [
    "model = GaussianNB().fit(X = df.iloc[:,:4], y = df[\"is_setosa\"])"
   ]
  },
  {
   "cell_type": "code",
   "execution_count": 13,
   "id": "e81e2cc7-2fae-4781-8774-2a33bf78cdac",
   "metadata": {},
   "outputs": [
    {
     "data": {
      "text/plain": [
       "array([0.66666667, 0.33333333])"
      ]
     },
     "execution_count": 13,
     "metadata": {},
     "output_type": "execute_result"
    }
   ],
   "source": [
    "model.class_prior_"
   ]
  },
  {
   "cell_type": "code",
   "execution_count": 20,
   "id": "7bffb28a-2d4f-4465-8746-582a13046ce2",
   "metadata": {},
   "outputs": [
    {
     "data": {
      "text/plain": [
       "array([[6.262, 2.872, 4.906, 1.676],\n",
       "       [5.006, 3.428, 1.462, 0.246]])"
      ]
     },
     "execution_count": 20,
     "metadata": {},
     "output_type": "execute_result"
    }
   ],
   "source": [
    "model.theta_"
   ]
  },
  {
   "cell_type": "code",
   "execution_count": 27,
   "id": "94e6cb48-219d-4ba8-b887-a9d57cc556fd",
   "metadata": {},
   "outputs": [
    {
     "data": {
      "text/plain": [
       "array([1., 1., 1., 1.])"
      ]
     },
     "execution_count": 27,
     "metadata": {},
     "output_type": "execute_result"
    }
   ],
   "source": [
    "pred = model.predict_proba(df.iloc[:,:4])\n",
    "pred = pred[:,1]\n",
    "pred[:4]"
   ]
  },
  {
   "cell_type": "code",
   "execution_count": 28,
   "id": "8e5f2482-005e-4a96-8dbe-83c8bcf58e32",
   "metadata": {},
   "outputs": [],
   "source": [
    "from sklearn.metrics import accuracy_score"
   ]
  },
  {
   "cell_type": "code",
   "execution_count": 29,
   "id": "84b6dc09-9d49-4594-8be8-5f5306c10d9e",
   "metadata": {},
   "outputs": [],
   "source": [
    "pred_class = (pred > 0.5) + 0"
   ]
  },
  {
   "cell_type": "code",
   "execution_count": 30,
   "id": "b4df43b3-a26f-4e48-b00f-d10f4a753c75",
   "metadata": {},
   "outputs": [
    {
     "data": {
      "text/plain": [
       "1.0"
      ]
     },
     "execution_count": 30,
     "metadata": {},
     "output_type": "execute_result"
    }
   ],
   "source": [
    "accuracy_score(y_true = df[\"is_setosa\"], y_pred = pred_class)"
   ]
  },
  {
   "cell_type": "markdown",
   "id": "1cfda114-9492-41e7-b939-a74c39be7be3",
   "metadata": {},
   "source": [
    "#1 BMI가 0 초과인 데이터만 사용하여 나이브 베이즈 분류를 실시하고자 한다. outcome을 종속변수로 하고 나머지 변수를 독립변수로 할 때 종속변수의 사전확률은?\n",
    "*diabetes.csv 파일 사용\n",
    "*Outcome 1을 대상으로 사전확를을 계산한다."
   ]
  },
  {
   "cell_type": "code",
   "execution_count": 37,
   "id": "3e13beda-d455-4d7c-9c45-dfe7ae7c9d7b",
   "metadata": {},
   "outputs": [
    {
     "name": "stdout",
     "output_type": "stream",
     "text": [
      "Outcome\n",
      "0    0.648613\n",
      "1    0.351387\n",
      "Name: proportion, dtype: float64\n",
      "Index(['Pregnancies', 'Glucose', 'BloodPressure', 'SkinThickness', 'Insulin',\n",
      "       'BMI', 'DiabetesPedigreeFunction', 'Age', 'Outcome'],\n",
      "      dtype='object')\n"
     ]
    }
   ],
   "source": [
    "df = pd.read_csv(\"C:/Users/user/Downloads/datascience/Python/diabetes.csv\")\n",
    "df.head(2)\n",
    "df_sub = df.loc[df[\"BMI\"] > 0, :]\n",
    "print(df_sub[\"Outcome\"].value_counts(normalize = True))\n",
    "print(df_sub.columns)"
   ]
  },
  {
   "cell_type": "code",
   "execution_count": 39,
   "id": "12955d03-4dc3-40e6-86b9-c6874c47ceb6",
   "metadata": {},
   "outputs": [],
   "source": [
    "model = GaussianNB().fit(X = df_sub.iloc[:, :-1], y = df_sub[\"Outcome\"])"
   ]
  },
  {
   "cell_type": "code",
   "execution_count": 40,
   "id": "acae4c81-ea6c-4b7d-8bc9-a609b540d85f",
   "metadata": {},
   "outputs": [
    {
     "data": {
      "text/plain": [
       "array([0.64861295, 0.35138705])"
      ]
     },
     "execution_count": 40,
     "metadata": {},
     "output_type": "execute_result"
    }
   ],
   "source": [
    "model.class_prior_"
   ]
  },
  {
   "cell_type": "markdown",
   "id": "64e37f98-72d2-4a50-89aa-9fe0d4ff1cda",
   "metadata": {},
   "source": [
    "#2 혈압, 혈당, 나이를 독립변수로 하고 당뇨 발병 여부를 종속변수로 했을 때 그 정확도는 얼마인가?\n",
    "*diabates.csv파일 사용\n",
    "*Outcome 1을 대상으로 사전확률을 계산한다."
   ]
  },
  {
   "cell_type": "code",
   "execution_count": 58,
   "id": "8d404c2c-131c-4dc1-b004-02b0e230296f",
   "metadata": {},
   "outputs": [
    {
     "data": {
      "text/plain": [
       "0.7552083333333334"
      ]
     },
     "execution_count": 58,
     "metadata": {},
     "output_type": "execute_result"
    }
   ],
   "source": [
    "model = GaussianNB().fit(X = df[[\"BloodPressure\", \"Age\", \"Glucose\"]], y = df[\"Outcome\"])\n",
    "pred = model.predict_proba(df[[\"BloodPressure\", \"Age\", \"Glucose\"]])[:,1]\n",
    "pred_class = (pred > 0.5) + 0\n",
    "accuracy_score(y_true = df[\"Outcome\"], y_pred = pred_class)"
   ]
  },
  {
   "cell_type": "markdown",
   "id": "c67b2a23-55c6-4979-b35f-37147e5142ac",
   "metadata": {},
   "source": [
    "#3 임신여부, 연령대, BMI, 혈당을 독립변수로 하고 당뇨 발병 여부를 종속변수로 했을때 나이브 베이즈와 로지스틱 회귀 분석을 실시하고 둘 중 정확도가 높은 모델의 정확도는?\n",
    "*diabetes.csv파일 사용\n",
    "*BMI 가 0 초과인 것을 사용하며 학습/평가 데이터 세트를 8:2로 분할, seed 는 123\n",
    "*연령대는 Age가 21인 경우 20으로, 29인 경우 30으로 계산한다.\n",
    "*sklearn의 로지스틱 회귀함수를 사용하며, 임계값(threshold)는 0.5로 한다."
   ]
  },
  {
   "cell_type": "code",
   "execution_count": 104,
   "id": "556d8817-0c63-4fa2-a9b1-d19c50dc0a9b",
   "metadata": {},
   "outputs": [],
   "source": [
    "from sklearn.linear_model import LogisticRegression\n",
    "from sklearn.model_selection import train_test_split"
   ]
  },
  {
   "cell_type": "code",
   "execution_count": 109,
   "id": "e9430f5d-0b24-4b11-bd7c-fe4449e65cf7",
   "metadata": {},
   "outputs": [],
   "source": [
    "df = pd.read_csv(\"C:/Users/user/Downloads/datascience/Python/diabetes.csv\")\n",
    "df[\"age\"] =(df[\"Age\"] // 10) * 10\n",
    "df[\"is_preg\"] =(df[\"Pregnancies\"] > 0) + 0\n",
    "df_sub = df.loc[df[\"BMI\"] > 0, :]\n",
    "df_train, df_test = train_test_split(df_sub, train_size = 0.8, random_state = 123)"
   ]
  },
  {
   "cell_type": "code",
   "execution_count": 110,
   "id": "90df6f0c-7df7-448c-9d6d-efd5a793b9bc",
   "metadata": {},
   "outputs": [],
   "source": [
    "X1 = df_train[[\"is_preg\", \"age\", \"BMI\", \"Glucose\"]] \n",
    "y1 = df_train[\"Outcome\"]\n",
    "model1 = LogisticRegression().fit(X = X1, y = y1)\n",
    "pred1 = model1.predict_proba(df_test[[\"is_preg\", \"age\", \"BMI\", \"Glucose\"]])[:,1]\n",
    "pred1_class = (pred1 > 0.5) + 0"
   ]
  },
  {
   "cell_type": "code",
   "execution_count": 111,
   "id": "51369102-d70b-41ec-9c6c-cbbdba888ca5",
   "metadata": {},
   "outputs": [],
   "source": [
    "model2 = GaussianNB().fit(X = X1, y = y1)\n",
    "pred2 = model2.predict_proba(df_test[[\"is_preg\", \"age\", \"BMI\", \"Glucose\"]])[:,1]\n",
    "pred2_class = (pred2 > 0.5) + 0"
   ]
  },
  {
   "cell_type": "code",
   "execution_count": 112,
   "id": "082074f5-79ba-4bc3-8c9a-0b9038091d82",
   "metadata": {},
   "outputs": [
    {
     "name": "stdout",
     "output_type": "stream",
     "text": [
      "0.8289473684210527\n",
      "0.8026315789473685\n"
     ]
    }
   ],
   "source": [
    "acc1 = accuracy_score(y_true = df_test[\"Outcome\"], y_pred = pred1_class)\n",
    "acc2 = accuracy_score(y_true = df_test[\"Outcome\"], y_pred = pred2_class)\n",
    "print(acc1)\n",
    "print(acc2)"
   ]
  },
  {
   "cell_type": "code",
   "execution_count": null,
   "id": "fcde82a0-0cde-499a-9bf8-847612bfa87a",
   "metadata": {},
   "outputs": [],
   "source": []
  }
 ],
 "metadata": {
  "kernelspec": {
   "display_name": "Python 3 (ipykernel)",
   "language": "python",
   "name": "python3"
  },
  "language_info": {
   "codemirror_mode": {
    "name": "ipython",
    "version": 3
   },
   "file_extension": ".py",
   "mimetype": "text/x-python",
   "name": "python",
   "nbconvert_exporter": "python",
   "pygments_lexer": "ipython3",
   "version": "3.11.7"
  }
 },
 "nbformat": 4,
 "nbformat_minor": 5
}
