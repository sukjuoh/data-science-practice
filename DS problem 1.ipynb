{
 "cells": [
  {
   "cell_type": "code",
   "execution_count": 167,
   "id": "ac64e0a8-8287-48d4-a3a6-a9b80f5f20a4",
   "metadata": {},
   "outputs": [],
   "source": [
    "import numpy as np\n",
    "import pandas as pd"
   ]
  },
  {
   "cell_type": "code",
   "execution_count": 168,
   "id": "122e5936-fdb9-4d85-83ab-7f16cd359654",
   "metadata": {},
   "outputs": [
    {
     "data": {
      "text/html": [
       "<div>\n",
       "<style scoped>\n",
       "    .dataframe tbody tr th:only-of-type {\n",
       "        vertical-align: middle;\n",
       "    }\n",
       "\n",
       "    .dataframe tbody tr th {\n",
       "        vertical-align: top;\n",
       "    }\n",
       "\n",
       "    .dataframe thead th {\n",
       "        text-align: right;\n",
       "    }\n",
       "</style>\n",
       "<table border=\"1\" class=\"dataframe\">\n",
       "  <thead>\n",
       "    <tr style=\"text-align: right;\">\n",
       "      <th></th>\n",
       "      <th>user</th>\n",
       "      <th>gender</th>\n",
       "      <th>model_no</th>\n",
       "      <th>duration</th>\n",
       "      <th>date</th>\n",
       "    </tr>\n",
       "  </thead>\n",
       "  <tbody>\n",
       "    <tr>\n",
       "      <th>0</th>\n",
       "      <td>03rhphq1u3</td>\n",
       "      <td>M</td>\n",
       "      <td>SM-S908U</td>\n",
       "      <td>16407</td>\n",
       "      <td>2022-02-21</td>\n",
       "    </tr>\n",
       "    <tr>\n",
       "      <th>1</th>\n",
       "      <td>06ubzrmthj</td>\n",
       "      <td>NaN</td>\n",
       "      <td>SM-S908U</td>\n",
       "      <td>70671</td>\n",
       "      <td>2022-02-21</td>\n",
       "    </tr>\n",
       "    <tr>\n",
       "      <th>2</th>\n",
       "      <td>08opljrljj</td>\n",
       "      <td>NaN</td>\n",
       "      <td>SM-S908U</td>\n",
       "      <td>30756</td>\n",
       "      <td>2022-02-21</td>\n",
       "    </tr>\n",
       "    <tr>\n",
       "      <th>3</th>\n",
       "      <td>08opljrljj</td>\n",
       "      <td>NaN</td>\n",
       "      <td>SM-S908U</td>\n",
       "      <td>53186</td>\n",
       "      <td>2022-02-21</td>\n",
       "    </tr>\n",
       "    <tr>\n",
       "      <th>4</th>\n",
       "      <td>08opljrljj</td>\n",
       "      <td>NaN</td>\n",
       "      <td>SM-S908U</td>\n",
       "      <td>59744</td>\n",
       "      <td>2022-02-21</td>\n",
       "    </tr>\n",
       "  </tbody>\n",
       "</table>\n",
       "</div>"
      ],
      "text/plain": [
       "         user gender  model_no  duration        date\n",
       "0  03rhphq1u3      M  SM-S908U     16407  2022-02-21\n",
       "1  06ubzrmthj    NaN  SM-S908U     70671  2022-02-21\n",
       "2  08opljrljj    NaN  SM-S908U     30756  2022-02-21\n",
       "3  08opljrljj    NaN  SM-S908U     53186  2022-02-21\n",
       "4  08opljrljj    NaN  SM-S908U     59744  2022-02-21"
      ]
     },
     "execution_count": 168,
     "metadata": {},
     "output_type": "execute_result"
    }
   ],
   "source": [
    "df = pd.read_csv(\"C:/Users/user/Downloads/ds문제풀이/ds문제풀이/ds2(#1)_1/DS1_실습파일/ds1_stat1.csv\")\n",
    "df.head()\n",
    "df.columns = [\"user\", \"gender\", \"model_no\", \"duration\", \"date\"]\n",
    "df.head()"
   ]
  },
  {
   "cell_type": "markdown",
   "id": "daa1227e-b3cc-4911-8106-a1415e084fe9",
   "metadata": {},
   "source": [
    "Q1-1 남성과 여성 사용자 수의 합을 구하시오."
   ]
  },
  {
   "cell_type": "code",
   "execution_count": 169,
   "id": "6c126492-c1d0-42f7-a168-bd184553504a",
   "metadata": {},
   "outputs": [
    {
     "data": {
      "text/plain": [
       "user             0\n",
       "gender      388620\n",
       "model_no         0\n",
       "duration         0\n",
       "date             0\n",
       "dtype: int64"
      ]
     },
     "execution_count": 169,
     "metadata": {},
     "output_type": "execute_result"
    }
   ],
   "source": [
    "df.isna().sum()"
   ]
  },
  {
   "cell_type": "code",
   "execution_count": 170,
   "id": "f5bb4069-577e-4ae7-a624-3f6d73dd9ab1",
   "metadata": {},
   "outputs": [
    {
     "data": {
      "text/plain": [
       "user      8985\n",
       "gender       2\n",
       "dtype: int64"
      ]
     },
     "execution_count": 170,
     "metadata": {},
     "output_type": "execute_result"
    }
   ],
   "source": [
    "df[[\"user\",\"gender\"]].dropna().nunique()"
   ]
  },
  {
   "cell_type": "markdown",
   "id": "920a9de3-55f7-4078-b469-78e3a9269a70",
   "metadata": {},
   "source": [
    "Q1-2 일주일 간의 실행 횟수가 10회 이상인 사람들의 일주일 간의 총 앱 실행시간의 평균을 구하시오."
   ]
  },
  {
   "cell_type": "code",
   "execution_count": 171,
   "id": "499a3ff6-2657-4482-9797-6c7a7d23c414",
   "metadata": {},
   "outputs": [
    {
     "data": {
      "text/plain": [
       "922806.468885915"
      ]
     },
     "execution_count": 171,
     "metadata": {},
     "output_type": "execute_result"
    }
   ],
   "source": [
    "con1 = df.groupby(\"user\")[\"duration\"].count()\n",
    "con2 = df.groupby(\"user\")[\"duration\"].sum()\n",
    "df_sub = pd.concat([con1, con2], axis = 1)\n",
    "df_sub.columns = [\"count\", \"duration\"]\n",
    "df_sub.loc[df_sub[\"count\"] >= 10, :][\"duration\"].mean()"
   ]
  },
  {
   "cell_type": "markdown",
   "id": "e9881845-4d72-4727-97e2-c155fa093b3d",
   "metadata": {},
   "source": [
    "Q1-3 각 여성 사용자들의 일주일간의 총 앱 실행시간을 계산한 데이터셋을 만들었을 때, 총 실행시간 1990593의 z-통계량(z-score)를 구하시오."
   ]
  },
  {
   "cell_type": "code",
   "execution_count": 172,
   "id": "b49afcb7-a5f9-49ce-ae4f-365e6ddaa37d",
   "metadata": {},
   "outputs": [
    {
     "data": {
      "text/plain": [
       "1.3500095592869115"
      ]
     },
     "execution_count": 172,
     "metadata": {},
     "output_type": "execute_result"
    }
   ],
   "source": [
    "df_sub = df.loc[df[\"gender\"] == \"F\", :]\n",
    "female_use = df_sub.groupby(\"user\")[\"duration\"].sum()\n",
    "(1990593 - female_use.mean()) / female_use.std()"
   ]
  },
  {
   "cell_type": "code",
   "execution_count": 173,
   "id": "30626208-3d30-46ab-b723-ef005cfecaae",
   "metadata": {},
   "outputs": [
    {
     "data": {
      "text/plain": [
       "inch     0\n",
       "power    0\n",
       "dtype: int64"
      ]
     },
     "execution_count": 173,
     "metadata": {},
     "output_type": "execute_result"
    }
   ],
   "source": [
    "df = pd.read_csv(\"C:/Users/user/Downloads/ds문제풀이/ds문제풀이/ds2(#1)_1/DS1_실습파일/ds1_stat2.csv\")\n",
    "df.head(2)\n",
    "df.isna().sum()"
   ]
  },
  {
   "cell_type": "markdown",
   "id": "2a0f09cf-c0df-453e-8f0f-41c8a1b83f3b",
   "metadata": {},
   "source": [
    "Q2-1 75인치 TV 소비전력의 표본평균을 구하시오."
   ]
  },
  {
   "cell_type": "code",
   "execution_count": 174,
   "id": "f0d11985-e7ab-4516-b625-8d6539b8377b",
   "metadata": {},
   "outputs": [
    {
     "data": {
      "text/plain": [
       "358.1416295399329"
      ]
     },
     "execution_count": 174,
     "metadata": {},
     "output_type": "execute_result"
    }
   ],
   "source": [
    "df.loc[df[\"inch\"] ==75, :][\"power\"].mean()"
   ]
  },
  {
   "cell_type": "markdown",
   "id": "c2a812ed-0f4b-4478-81a8-655676b8c8e4",
   "metadata": {},
   "source": [
    "Q2-2 전체 75인치 TV의 소비전력의 모표준편차는 25kw로 알려져있다. 모평균에 대한 99% 신뢰구간을 (a, b)라 할때 a, b를 각각 구하시오.\n",
    "(단, P(Z >= 2.58) = 0.005)"
   ]
  },
  {
   "cell_type": "code",
   "execution_count": 175,
   "id": "537d6a4c-4501-4894-933b-d9d54a2096f0",
   "metadata": {},
   "outputs": [
    {
     "name": "stdout",
     "output_type": "stream",
     "text": [
      "354.4052448608884\n",
      "361.87801421897746\n"
     ]
    }
   ],
   "source": [
    "sigma = 25\n",
    "x_bar = df.loc[df[\"inch\"] ==75, :][\"power\"].mean()\n",
    "sigma_hat = sigma / df.loc[df[\"inch\"] ==75, :].shape[0] ** 0.5\n",
    "a = x_bar - sigma_hat * 2.58\n",
    "b = x_bar + sigma_hat * 2.58\n",
    "print(a)\n",
    "print(b)"
   ]
  },
  {
   "cell_type": "markdown",
   "id": "e802028a-9b61-4105-9124-3946444c9d68",
   "metadata": {},
   "source": [
    "화면크기를 독립변수, 소비전력을 종속변수로 하는 선형회귀모델을 학습하고 다음 질문들에 답하시오.\n",
    "\n",
    "\n",
    "Q3-1 선형회귀모델의 기울기를 구하시오."
   ]
  },
  {
   "cell_type": "code",
   "execution_count": 176,
   "id": "0a6bb7dc-68fe-4487-a50c-509752bc0a21",
   "metadata": {},
   "outputs": [
    {
     "data": {
      "text/plain": [
       "array([[3.1278318]])"
      ]
     },
     "execution_count": 176,
     "metadata": {},
     "output_type": "execute_result"
    }
   ],
   "source": [
    "from sklearn.linear_model import LinearRegression\n",
    "model = LinearRegression().fit(X = df[[\"inch\"]], y = df[[\"power\"]])\n",
    "model.coef_"
   ]
  },
  {
   "cell_type": "markdown",
   "id": "b5e51822-7112-4d96-aad4-50ffa64f5c05",
   "metadata": {},
   "source": [
    "Q3-2 SSR, SST, R-squared를 구하시오."
   ]
  },
  {
   "cell_type": "code",
   "execution_count": 177,
   "id": "6416f5e9-4708-45e6-8616-97f10a487154",
   "metadata": {},
   "outputs": [
    {
     "name": "stdout",
     "output_type": "stream",
     "text": [
      "2546695.1787300445\n",
      "4881757.06925299\n",
      "0.5216759340135992\n"
     ]
    }
   ],
   "source": [
    "pred = pd.Series(model.predict(df[[\"inch\"]]).reshape(-1))\n",
    "SST = sum((df[\"power\"] - df[\"power\"].mean())**2)\n",
    "SSE = sum((df[\"power\"].reset_index(drop=True) - pred)**2)\n",
    "SSR = SST - SSE\n",
    "R_squared = SSR/SST\n",
    "print(SSR)\n",
    "print(SST)\n",
    "print(R_squared)"
   ]
  },
  {
   "cell_type": "markdown",
   "id": "48d33a75-b333-48c2-ac95-4103f5fa1dc1",
   "metadata": {},
   "source": [
    "Q4-1 'state' 컬럼의 서로 다른 값의 개수는 몇개인지 구하시오."
   ]
  },
  {
   "cell_type": "code",
   "execution_count": 178,
   "id": "add11aa8-0875-45a9-8b91-46de74b465ff",
   "metadata": {},
   "outputs": [
    {
     "data": {
      "text/html": [
       "<div>\n",
       "<style scoped>\n",
       "    .dataframe tbody tr th:only-of-type {\n",
       "        vertical-align: middle;\n",
       "    }\n",
       "\n",
       "    .dataframe tbody tr th {\n",
       "        vertical-align: top;\n",
       "    }\n",
       "\n",
       "    .dataframe thead th {\n",
       "        text-align: right;\n",
       "    }\n",
       "</style>\n",
       "<table border=\"1\" class=\"dataframe\">\n",
       "  <thead>\n",
       "    <tr style=\"text-align: right;\">\n",
       "      <th></th>\n",
       "      <th>state</th>\n",
       "      <th>account_length</th>\n",
       "      <th>csc</th>\n",
       "      <th>onlineshopping_beauty</th>\n",
       "      <th>wr_flag</th>\n",
       "      <th>buzz_usage_count</th>\n",
       "      <th>data_spent</th>\n",
       "      <th>app_a_use_count</th>\n",
       "      <th>sms_count</th>\n",
       "      <th>app_b_use_count</th>\n",
       "      <th>call_count</th>\n",
       "      <th>app_c_use_count</th>\n",
       "      <th>call_duration</th>\n",
       "      <th>usage_duration</th>\n",
       "      <th>app_d_use_count</th>\n",
       "      <th>num_service</th>\n",
       "      <th>target</th>\n",
       "    </tr>\n",
       "  </thead>\n",
       "  <tbody>\n",
       "    <tr>\n",
       "      <th>0</th>\n",
       "      <td>TX</td>\n",
       "      <td>66</td>\n",
       "      <td>ATT</td>\n",
       "      <td>0</td>\n",
       "      <td>1</td>\n",
       "      <td>34</td>\n",
       "      <td>36100.00</td>\n",
       "      <td>389.9</td>\n",
       "      <td>21.687314</td>\n",
       "      <td>2001.287587</td>\n",
       "      <td>1104.487108</td>\n",
       "      <td>698.89600</td>\n",
       "      <td>77.44</td>\n",
       "      <td>502.643825</td>\n",
       "      <td>4</td>\n",
       "      <td>1</td>\n",
       "      <td>0</td>\n",
       "    </tr>\n",
       "    <tr>\n",
       "      <th>1</th>\n",
       "      <td>VT</td>\n",
       "      <td>89</td>\n",
       "      <td>TMB</td>\n",
       "      <td>0</td>\n",
       "      <td>0</td>\n",
       "      <td>0</td>\n",
       "      <td>28662.49</td>\n",
       "      <td>428.6</td>\n",
       "      <td>11.117396</td>\n",
       "      <td>5392.446695</td>\n",
       "      <td>1420.765545</td>\n",
       "      <td>478.72561</td>\n",
       "      <td>112.36</td>\n",
       "      <td>403.083456</td>\n",
       "      <td>5</td>\n",
       "      <td>2</td>\n",
       "      <td>0</td>\n",
       "    </tr>\n",
       "  </tbody>\n",
       "</table>\n",
       "</div>"
      ],
      "text/plain": [
       "  state  account_length  csc  onlineshopping_beauty  wr_flag  \\\n",
       "0    TX              66  ATT                      0        1   \n",
       "1    VT              89  TMB                      0        0   \n",
       "\n",
       "   buzz_usage_count  data_spent  app_a_use_count  sms_count  app_b_use_count  \\\n",
       "0                34    36100.00            389.9  21.687314      2001.287587   \n",
       "1                 0    28662.49            428.6  11.117396      5392.446695   \n",
       "\n",
       "    call_count  app_c_use_count  call_duration  usage_duration  \\\n",
       "0  1104.487108        698.89600          77.44      502.643825   \n",
       "1  1420.765545        478.72561         112.36      403.083456   \n",
       "\n",
       "   app_d_use_count  num_service  target  \n",
       "0                4            1       0  \n",
       "1                5            2       0  "
      ]
     },
     "execution_count": 178,
     "metadata": {},
     "output_type": "execute_result"
    }
   ],
   "source": [
    "df = pd.read_csv(\"C:/Users/user/Downloads/ds문제풀이/ds문제풀이/ds2(#1)_1/DS1_실습파일/ds1_mldata.csv\")\n",
    "df.head(2)"
   ]
  },
  {
   "cell_type": "code",
   "execution_count": 179,
   "id": "57ebfd40-bcb1-4b14-9a19-65ac7c2f60b5",
   "metadata": {},
   "outputs": [
    {
     "data": {
      "text/plain": [
       "51"
      ]
     },
     "execution_count": 179,
     "metadata": {},
     "output_type": "execute_result"
    }
   ],
   "source": [
    "df[\"state\"].nunique()"
   ]
  },
  {
   "cell_type": "markdown",
   "id": "381a9906-763c-4173-b8d2-dfbe5db28d65",
   "metadata": {},
   "source": [
    "Q4-2 'onlineshopping_beauty'와 'wr_flag'가 모두 1인 고객 중 'target'이 1인 고객의 비율(%)을 구하시오."
   ]
  },
  {
   "cell_type": "code",
   "execution_count": 180,
   "id": "2a9b2b7d-dd34-490c-8301-b68071f890d7",
   "metadata": {},
   "outputs": [
    {
     "data": {
      "text/plain": [
       "onlineshopping_beauty  wr_flag  target\n",
       "1                      1        1         0.5574\n",
       "                                0         0.4426\n",
       "Name: proportion, dtype: float64"
      ]
     },
     "execution_count": 180,
     "metadata": {},
     "output_type": "execute_result"
    }
   ],
   "source": [
    "con1 = df[\"onlineshopping_beauty\"] == 1\n",
    "con2 = df[\"wr_flag\"] == 1\n",
    "\n",
    "df_sub = df.loc[con1 & con2, :]\n",
    "df_sub.groupby([\"onlineshopping_beauty\", \"wr_flag\"])[\"target\"].value_counts(normalize = True).round(4)"
   ]
  },
  {
   "cell_type": "code",
   "execution_count": 181,
   "id": "256080c1-9e10-4436-907a-be6d21ddea40",
   "metadata": {},
   "outputs": [
    {
     "data": {
      "text/plain": [
       "target\n",
       "state          ME\n",
       "0        0.724138\n",
       "1        0.275862\n",
       "Name: 21, dtype: object"
      ]
     },
     "execution_count": 181,
     "metadata": {},
     "output_type": "execute_result"
    }
   ],
   "source": [
    "df_sub3 = pd.crosstab(df[\"state\"], df[\"target\"], normalize = 0).reset_index().sort_values(1, ascending = False)\n",
    "df_sub3.iloc[9,:]"
   ]
  },
  {
   "cell_type": "markdown",
   "id": "63fc335f-8d76-4b77-8fc0-5c795b190d8d",
   "metadata": {},
   "source": [
    "Q5-1 \n",
    "\n",
    "다음 수치형 변수만을 사용하여, 주어진 데이터셋을 train/test 셋으로 분할하여 고객의 이탈여부 'target'을 예측하는 모델을 학습 및 평가하는 미완성 코드이다. 코드를 완성하고 다음 질문에 답하시오.\n",
    "\n",
    "* 주어진 데이터셋의 행의 순서를 변경하지 말 것.\n",
    "* 주어진 코드를 변경하지 말 것."
   ]
  },
  {
   "cell_type": "code",
   "execution_count": 188,
   "id": "91aee81f-4da6-4fac-b314-6f1f984e547f",
   "metadata": {},
   "outputs": [
    {
     "name": "stdout",
     "output_type": "stream",
     "text": [
      "Precision :  0.59\n"
     ]
    }
   ],
   "source": [
    "import numpy as np\n",
    "import pandas as pd\n",
    "\n",
    "from sklearn.tree import DecisionTreeClassifier\n",
    "from sklearn.model_selection import train_test_split\n",
    "from sklearn.metrics import precision_score\n",
    "\n",
    "\n",
    "df = pd.read_csv(\"C:/Users/user/Downloads/ds문제풀이/ds문제풀이/ds2(#1)_1/DS1_실습파일/ds1_mldata.csv\")\n",
    "\n",
    "df.drop(columns = [\"state\", \"csc\"], inplace = True)\n",
    "\n",
    "X = df.drop(columns = [\"target\"])\n",
    "y = df[\"target\"]\n",
    "\n",
    "X_train, X_test, y_train, y_test = train_test_split(X, y, test_size = 0.3, random_state = 42)\n",
    "\n",
    "dt = DecisionTreeClassifier(random_state = 42)\n",
    "dt.fit(X_train, y_train)\n",
    "\n",
    "y_pred = dt.predict(X_test)\n",
    "prec = precision_score(y_test, y_pred)\n",
    "print(f'Precision : {prec: .2f}')\n",
    "\n"
   ]
  },
  {
   "cell_type": "markdown",
   "id": "cdc023ad-0b4d-40b6-9159-64f0314c084d",
   "metadata": {},
   "source": [
    "Q5-1 \n",
    "\n",
    "Train, test 비율을 7:3으로 하여 sklearn.ensemble.RandomForestClassifier 를 학습시키고 test set에서 'target'이 1일 확률이 0.75인 데이터의 개수를 구하시오.\n"
   ]
  },
  {
   "cell_type": "code",
   "execution_count": 189,
   "id": "6cc0c7fc-3989-412b-862a-262fc4e7d248",
   "metadata": {},
   "outputs": [
    {
     "name": "stdout",
     "output_type": "stream",
     "text": [
      "# of users with probability >= 0.75 is: 43\n"
     ]
    }
   ],
   "source": [
    "import numpy as np\n",
    "import pandas as pd\n",
    "\n",
    "from sklearn.ensemble import RandomForestClassifier\n",
    "from sklearn.model_selection import train_test_split\n",
    "\n",
    "df = pd.read_csv(\"C:/Users/user/Downloads/ds문제풀이/ds문제풀이/ds2(#1)_1/DS1_실습파일/ds1_mldata.csv\")\n",
    "\n",
    "df.drop(columns = [\"state\", \"csc\"], inplace = True)\n",
    "\n",
    "X = df.drop(columns = [\"target\"])\n",
    "y = df[\"target\"]\n",
    "\n",
    "X_train, X_test, y_train, y_test = train_test_split(X, y, test_size = 0.3, random_state = 42)\n",
    "\n",
    "rf = RandomForestClassifier(random_state = 42)\n",
    "rf.fit(X_train, y_train)\n",
    "\n",
    "y_pred = rf.predict_proba(X_test)[:,1]\n",
    "num = sum(y_pred >= 0.75)\n",
    "print(f'# of users with probability >= 0.75 is: {num}')"
   ]
  }
 ],
 "metadata": {
  "kernelspec": {
   "display_name": "Python 3 (ipykernel)",
   "language": "python",
   "name": "python3"
  },
  "language_info": {
   "codemirror_mode": {
    "name": "ipython",
    "version": 3
   },
   "file_extension": ".py",
   "mimetype": "text/x-python",
   "name": "python",
   "nbconvert_exporter": "python",
   "pygments_lexer": "ipython3",
   "version": "3.11.7"
  }
 },
 "nbformat": 4,
 "nbformat_minor": 5
}
